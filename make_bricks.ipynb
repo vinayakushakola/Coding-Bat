{
 "cells": [
  {
   "cell_type": "markdown",
   "metadata": {},
   "source": [
    "# Coding Bat"
   ]
  },
  {
   "cell_type": "markdown",
   "metadata": {},
   "source": [
    "1. We want to make a row of bricks that is goal inches long. We have a number of small bricks (1 inch each) and big bricks (5 inches each). Return True if it is possible to make the goal by choosing from the given bricks. This is a little harder than it looks and can be done without any loops. See also: Introduction to MakeBricks\n",
    "```\n",
    "make_bricks(3, 1, 8) → True\n",
    "make_bricks(3, 1, 9) → False\n",
    "make_bricks(3, 2, 10) → True\n",
    "```"
   ]
  },
  {
   "cell_type": "code",
   "execution_count": 1,
   "metadata": {},
   "outputs": [
    {
     "name": "stdout",
     "output_type": "stream",
     "text": [
      "True\n"
     ]
    }
   ],
   "source": [
    "def magic_bricks(small,big,goal):\n",
    "    count = goal\n",
    "    count_big = 0\n",
    "    count_small = 0\n",
    "    while count > 0:\n",
    "        if count % 5 == 0 and count_big < big:\n",
    "            count -= 5\n",
    "            count_big += 1\n",
    "        else:\n",
    "            if count_small < small:\n",
    "                count -= 1\n",
    "                count_small += 1\n",
    "\n",
    "    if (count_big * 5 + count_small) == goal:\n",
    "        return(True)\n",
    "    else:\n",
    "        return(False)\n",
    "\n",
    "print(magic_bricks(1000000,1000,1000100))"
   ]
  },
  {
   "cell_type": "code",
   "execution_count": null,
   "metadata": {},
   "outputs": [],
   "source": []
  },
  {
   "cell_type": "markdown",
   "metadata": {},
   "source": [
    "# small code"
   ]
  },
  {
   "cell_type": "code",
   "execution_count": 2,
   "metadata": {},
   "outputs": [
    {
     "data": {
      "text/plain": [
       "True"
      ]
     },
     "execution_count": 2,
     "metadata": {},
     "output_type": "execute_result"
    }
   ],
   "source": [
    "def make_bricks(small,big,goal):\n",
    "    \n",
    "    if goal > big*5 + small:\n",
    "        return False\n",
    "    if goal % 5 > small:\n",
    "        return False\n",
    "    return True\n",
    "make_bricks(19,4,39)"
   ]
  },
  {
   "cell_type": "code",
   "execution_count": null,
   "metadata": {},
   "outputs": [],
   "source": []
  }
 ],
 "metadata": {
  "kernelspec": {
   "display_name": "Python 3",
   "language": "python",
   "name": "python3"
  },
  "language_info": {
   "codemirror_mode": {
    "name": "ipython",
    "version": 3
   },
   "file_extension": ".py",
   "mimetype": "text/x-python",
   "name": "python",
   "nbconvert_exporter": "python",
   "pygments_lexer": "ipython3",
   "version": "3.7.3"
  }
 },
 "nbformat": 4,
 "nbformat_minor": 2
}
